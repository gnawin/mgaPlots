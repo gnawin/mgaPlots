{
 "cells": [
  {
   "cell_type": "code",
   "execution_count": 2,
   "metadata": {},
   "outputs": [
    {
     "name": "stdout",
     "output_type": "stream",
     "text": [
      "Current Path: c:\\Users\\wangn\\OneDrive - TNO\\Repositories\\mgaPlots\n",
      "File saved to: c:\\Users\\wangn\\OneDrive - TNO\\Repositories\\mgaPlots\\inputs/modified_energy_cap.csv\n"
     ]
    }
   ],
   "source": [
    "import os\n",
    "import pandas as pd\n",
    "\n",
    "# Get the current working directory\n",
    "current_path = os.getcwd()\n",
    "print(\"Current Path:\", current_path)\n",
    "\n",
    "# Define the input file path using the current directory\n",
    "input_file_path = os.path.join(current_path, \"inputs/energy_cap.csv\")\n",
    "\n",
    "# Load the CSV file without the 'Unnamed: 0' column if it's not needed\n",
    "energy_data = pd.read_csv(input_file_path).drop(columns=['Unnamed: 0'], errors='ignore')\n",
    "\n",
    "# Create a column to identify each unique combination of case and spore\n",
    "energy_data['case_spore'] = energy_data['cases'].astype(str) + '_' + energy_data['spores'].astype(str)\n",
    "\n",
    "# Initialize a counter to assign spore_numeric across cases\n",
    "if not energy_data.empty:\n",
    "    # Sort the data by 'cases' and 'spores' to ensure proper ordering (optional if data is already sorted)\n",
    "    energy_data.sort_values(by=['cases', 'spores'], inplace=True)\n",
    "    # Create a dictionary to map each unique case_spore to a new spore_numeric starting from 0\n",
    "    unique_case_spores = {cs: i for i, cs in enumerate(energy_data['case_spore'].unique())}\n",
    "    # Map the case_spore to the spore_numeric using the dictionary\n",
    "    energy_data['spores_numeric'] = energy_data['case_spore'].map(unique_case_spores)\n",
    "\n",
    "# Define the path for the output CSV file\n",
    "output_file_path = os.path.join(current_path, \"inputs/modified_energy_cap.csv\")\n",
    "\n",
    "# Save the modified DataFrame to a new CSV file without the index\n",
    "energy_data.to_csv(output_file_path, index=False)\n",
    "print(\"File saved to:\", output_file_path)\n"
   ]
  }
 ],
 "metadata": {
  "kernelspec": {
   "display_name": "base",
   "language": "python",
   "name": "python3"
  },
  "language_info": {
   "codemirror_mode": {
    "name": "ipython",
    "version": 3
   },
   "file_extension": ".py",
   "mimetype": "text/x-python",
   "name": "python",
   "nbconvert_exporter": "python",
   "pygments_lexer": "ipython3",
   "version": "3.10.13"
  }
 },
 "nbformat": 4,
 "nbformat_minor": 2
}
